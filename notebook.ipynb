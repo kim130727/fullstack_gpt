{
 "cells": [
  {
   "cell_type": "code",
   "execution_count": 9,
   "metadata": {},
   "outputs": [],
   "source": [
    "from langchain.chat_models import ChatOpenAI\n",
    "from langchain.prompts import PromptTemplate\n",
    "\n",
    "function = {\n",
    "\t\"name\": \"get_weather\",\n",
    "\t\"description\": \"function that takes longitude and latitude to find the weather of a place\",\n",
    "\t\"parameters\": {\n",
    "\t\t\"type\": \"object\",\n",
    "\t\t\"properties\": {\n",
    "\t\t\t\"lon\": {\"type\": \"string\", \"description\": \"The longitude coordinate\"},\n",
    "\t\t\t\"lat\": {\"type\": \"string\", \"description\": \"The latitude coordinate\"},\n",
    "\t\t},\n",
    "\t},\n",
    "\t\"required\": [\"lon\", \"lat\"], #두 변수 모두 필요하다고 표\n",
    "}\n",
    "\n",
    "llm = ChatOpenAI(\n",
    "    temperature=0.1,\n",
    ").bind(\n",
    "    function_call=\"auto\",\n",
    "    functions=[\n",
    "        function,\n",
    "    ],\n",
    ")\n",
    "prompt= PromptTemplate.from_template(\"Who is the weather in {city}\")\n",
    "\n",
    "chain = prompt | llm\n",
    "\n",
    "response = chain.invoke({\"city\": \"rome\"})\n",
    "response = response.additional_kwargs[\"function_call\"][\"arguments\"]"
   ]
  },
  {
   "cell_type": "code",
   "execution_count": 10,
   "metadata": {},
   "outputs": [
    {
     "data": {
      "text/plain": [
       "{'lon': '12.4964', 'lat': '41.9028'}"
      ]
     },
     "execution_count": 10,
     "metadata": {},
     "output_type": "execute_result"
    }
   ],
   "source": [
    "import json\n",
    "\n",
    "json.loads(response)"
   ]
  },
  {
   "cell_type": "code",
   "execution_count": 11,
   "metadata": {},
   "outputs": [
    {
     "data": {
      "text/plain": [
       "('12.4964', '41.9028')"
      ]
     },
     "execution_count": 11,
     "metadata": {},
     "output_type": "execute_result"
    }
   ],
   "source": [
    "r = json.loads(response)\n",
    "r['lon'], r['lat']"
   ]
  },
  {
   "cell_type": "code",
   "execution_count": 12,
   "metadata": {},
   "outputs": [
    {
     "data": {
      "text/plain": [
       "'{\"questions\":[{\"question\":\"What year was Rome founded?\",\"answers\":[{\"answer\":\"753 BC\",\"correct\":true},{\"answer\":\"476 AD\",\"correct\":false},{\"answer\":\"100 AD\",\"correct\":false}]},{\"question\":\"Who was the first emperor of Rome?\",\"answers\":[{\"answer\":\"Julius Caesar\",\"correct\":false},{\"answer\":\"Augustus\",\"correct\":true},{\"answer\":\"Nero\",\"correct\":false}]},{\"question\":\"What famous structure in Rome was built by the ancient Romans and is still standing today?\",\"answers\":[{\"answer\":\"Colosseum\",\"correct\":true},{\"answer\":\"Pantheon\",\"correct\":false},{\"answer\":\"Trevi Fountain\",\"correct\":false}]},{\"question\":\"What event marked the fall of the Western Roman Empire in 476 AD?\",\"answers\":[{\"answer\":\"Sack of Rome\",\"correct\":true},{\"answer\":\"Battle of Actium\",\"correct\":false},{\"answer\":\"Punic Wars\",\"correct\":false}]}]}'"
      ]
     },
     "execution_count": 12,
     "metadata": {},
     "output_type": "execute_result"
    }
   ],
   "source": [
    "from langchain.chat_models import ChatOpenAI\n",
    "from langchain.prompts import PromptTemplate\n",
    "\n",
    "\n",
    "function = {\n",
    "    \"name\": \"create_quiz\",\n",
    "    \"description\": \"function that takes a list of questions and answers and returns a quiz\",\n",
    "    \"parameters\": {\n",
    "        \"type\": \"object\",\n",
    "        \"properties\": {\n",
    "            \"questions\": {\n",
    "                \"type\": \"array\",\n",
    "                \"items\": {\n",
    "                    \"type\": \"object\",\n",
    "                    \"properties\": {\n",
    "                        \"question\": {\n",
    "                            \"type\": \"string\",\n",
    "                        },\n",
    "                        \"answers\": {\n",
    "                            \"type\": \"array\",\n",
    "                            \"items\": {\n",
    "                                \"type\": \"object\",\n",
    "                                \"properties\": {\n",
    "                                    \"answer\": {\n",
    "                                        \"type\": \"string\",\n",
    "                                    },\n",
    "                                    \"correct\": {\n",
    "                                        \"type\": \"boolean\",\n",
    "                                    },\n",
    "                                },\n",
    "                                \"required\": [\"answer\", \"correct\"],\n",
    "                            },\n",
    "                        },\n",
    "                    },\n",
    "                    \"required\": [\"question\", \"answers\"],\n",
    "                },\n",
    "            }\n",
    "        },\n",
    "        \"required\": [\"questions\"],\n",
    "    },\n",
    "}\n",
    "\n",
    "\n",
    "llm = ChatOpenAI(\n",
    "    temperature=0.1,\n",
    ").bind(\n",
    "    function_call={\n",
    "        \"name\": \"create_quiz\",\n",
    "    },\n",
    "    functions=[\n",
    "        function,\n",
    "    ],\n",
    ")\n",
    "\n",
    "prompt = PromptTemplate.from_template(\"Make a quiz about {city}\")\n",
    "\n",
    "chain = prompt | llm\n",
    "\n",
    "response = chain.invoke({\"city\": \"rome\"})\n",
    "\n",
    "\n",
    "response = response.additional_kwargs[\"function_call\"][\"arguments\"]\n",
    "\n",
    "response"
   ]
  },
  {
   "cell_type": "code",
   "execution_count": null,
   "metadata": {},
   "outputs": [],
   "source": [
    "import json\n",
    "\n",
    "for question in json.loads(response)[\"questions\"]:\n",
    "    print(question)"
   ]
  }
 ],
 "metadata": {
  "kernelspec": {
   "display_name": "env",
   "language": "python",
   "name": "python3"
  },
  "language_info": {
   "codemirror_mode": {
    "name": "ipython",
    "version": 3
   },
   "file_extension": ".py",
   "mimetype": "text/x-python",
   "name": "python",
   "nbconvert_exporter": "python",
   "pygments_lexer": "ipython3",
   "version": "3.10.7"
  },
  "orig_nbformat": 4
 },
 "nbformat": 4,
 "nbformat_minor": 2
}
