{
 "cells": [
  {
   "cell_type": "code",
   "execution_count": 1,
   "metadata": {},
   "outputs": [
    {
     "name": "stdout",
     "output_type": "stream",
     "text": [
      "Here is a simple recipe for making soju at home:\n",
      "\n",
      "Ingredients:\n",
      "- 1.5 liters of water\n",
      "- 1 cup of rice\n",
      "- 1 tablespoon of yeast\n",
      "- 1 cup of sugar\n",
      "\n",
      "Instructions:\n",
      "1. Rinse the rice thoroughly under cold water until the water runs clear.\n",
      "2. In a large pot, bring the water to a boil and add the rinsed rice.\n",
      "3. Reduce the heat to low and simmer the rice for about 30 minutes, or until it becomes soft and mushy.\n",
      "4. Remove the pot from heat and let it cool down to room temperature.\n",
      "5. Once the rice has cooled, transfer it to a large glass jar or container.\n",
      "6. Dissolve the yeast in a small amount of warm water and add it to the rice.\n",
      "7. Stir in the sugar until it is fully dissolved.\n",
      "8. Cover the jar or container with a clean cloth or plastic wrap and secure it tightly.\n",
      "9. Store the mixture in a cool, dark place for about 7-10 days, allowing it to ferment.\n",
      "10. After the fermentation period, strain the mixture through a cheesecloth or fine mesh strainer to remove any solids.\n",
      "11. Transfer the strained liquid into bottles or jars and refrigerate before serving.\n",
      "12. Soju is typically served chilled and can be enjoyed straight or mixed with other beverages like fruit juices or soda.\n",
      "\n",
      "Please note that making soju at home may not produce the same taste and alcohol content as commercially produced soju. \n",
      "\n",
      "Here is a basic recipe for making bread:\n",
      "\n",
      "Ingredients:\n",
      "- 4 cups all-purpose flour\n",
      "- 2 teaspoons active dry yeast\n",
      "- 2 teaspoons salt\n",
      "- 2 tablespoons sugar\n",
      "- 2 tablespoons vegetable oil\n",
      "- 1 ½ cups warm water (around 110°F/43°C)\n",
      "\n",
      "Instructions:\n",
      "1. In a large mixing bowl, combine the warm water and sugar. Stir until the sugar is dissolved. Sprinkle the yeast over the water and let it sit for about 5 minutes until it becomes frothy.\n",
      "\n",
      "2. Add the flour, salt, and vegetable oil to the bowl. Mix everything together until a dough forms.\n",
      "\n",
      "3. Transfer the dough onto a floured surface and knead it for about 10 minutes until it becomes smooth and elastic. You can also use a stand mixer with a dough hook attachment for this step.\n",
      "\n",
      "4. Place the dough in a greased bowl and cover it with a clean kitchen towel. Let it rise in a warm place for about 1-2 hours or until it doubles in size.\n",
      "\n",
      "5. Once the dough has risen, punch it down to release any air bubbles. Transfer it back to the floured surface and shape it into a loaf or desired shape.\n",
      "\n",
      "6. Place the shaped dough onto a greased or parchment-lined baking sheet. Cover it with the kitchen towel and let it rise for another 30-45 minutes.\n",
      "\n",
      "7. Preheat the oven to 375°F (190°C). Optionally, you can brush the top of the bread with milk or beaten egg for a shiny crust.\n",
      "\n",
      "8. Bake the bread in the preheated oven for about 30-35 minutes or until it turns golden brown and sounds hollow when tapped on the bottom.\n",
      "\n",
      "9. Remove the bread from the oven and let it cool on a wire rack before slicing and serving.\n",
      "\n",
      "Enjoy your homemade bread! \n",
      "\n",
      "Tokens Used: 708\n",
      "\tPrompt Tokens: 27\n",
      "\tCompletion Tokens: 681\n",
      "Successful Requests: 2\n",
      "Total Cost (USD): $0.0014025\n"
     ]
    }
   ],
   "source": [
    "from langchain.chat_models import ChatOpenAI\n",
    "from langchain.callbacks import get_openai_callback\n",
    "\n",
    "chat = ChatOpenAI(\n",
    "    temperature=0.1,\n",
    ")\n",
    "\n",
    "\n",
    "with get_openai_callback() as usage:\n",
    "    a = chat.predict(\"What is the recipe for soju\")\n",
    "    b = chat.predict(\"What is the recipe for bread\")\n",
    "    print(a, \"\\n\")\n",
    "    print(b, \"\\n\")\n",
    "    print(usage)"
   ]
  },
  {
   "cell_type": "code",
   "execution_count": 2,
   "metadata": {},
   "outputs": [],
   "source": [
    "from langchain.chat_models import ChatOpenAI\n",
    "from langchain.llms.openai import OpenAI\n",
    "\n",
    "chat = OpenAI(\n",
    "    temperature=0.1,\n",
    "    max_tokens=450,\n",
    "    model=\"gpt-3.5-turbo-16k\"\n",
    ")\n",
    "\n",
    "chat.save(\"model.json\")"
   ]
  },
  {
   "cell_type": "code",
   "execution_count": null,
   "metadata": {},
   "outputs": [],
   "source": [
    "from langchain.chat_models import ChatOpenAI\n",
    "from langchain.llms.openai import OpenAI\n",
    "from langchain.llms.loading import load_llm\n",
    "\n",
    "chat = load_llm(\"model.json\")\n",
    "\n",
    "chat\n"
   ]
  }
 ],
 "metadata": {
  "kernelspec": {
   "display_name": "env",
   "language": "python",
   "name": "python3"
  },
  "language_info": {
   "codemirror_mode": {
    "name": "ipython",
    "version": 3
   },
   "file_extension": ".py",
   "mimetype": "text/x-python",
   "name": "python",
   "nbconvert_exporter": "python",
   "pygments_lexer": "ipython3",
   "version": "3.10.7"
  },
  "orig_nbformat": 4
 },
 "nbformat": 4,
 "nbformat_minor": 2
}
