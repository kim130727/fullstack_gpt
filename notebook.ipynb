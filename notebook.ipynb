{
 "cells": [
  {
   "cell_type": "code",
   "execution_count": 9,
   "metadata": {},
   "outputs": [],
   "source": [
    "import subprocess\n",
    "\n",
    "def extract_audio_from_video(video_path, audio_path):\n",
    "    command = [\n",
    "        \"ffmpeg\",\n",
    "        \"-i\",\n",
    "        video_path,\n",
    "        \"-vn\",\n",
    "        audio_path,\n",
    "    ]\n",
    "    subprocess.run(command)\n",
    "\n",
    "\n",
    "extract_audio_from_video(\n",
    "    \"C:\\Python\\\\fullstack_gpt\\\\files/hosea_ch8.mp4\",\n",
    "    \"C:\\Python\\\\fullstack_gpt\\\\files/hosea_ch8.mp3\",\n",
    ")"
   ]
  },
  {
   "cell_type": "code",
   "execution_count": 1,
   "metadata": {},
   "outputs": [],
   "source": [
    "import subprocess\n",
    "from pydub import AudioSegment\n",
    "\n",
    "\n",
    "def extract_audio_from_video(video_path, audio_path):\n",
    "    command = [\n",
    "        \"ffmpeg\",\n",
    "        \"-i\",\n",
    "        video_path,\n",
    "        \"-vn\",\n",
    "        audio_path,\n",
    "    ]\n",
    "    subprocess.run(command)\n",
    "\n",
    "\n",
    "track = AudioSegment.from_mp3(\"C:\\Python\\\\fullstack_gpt\\\\files/hosea_ch8.mp3\")\n",
    "\n",
    "ten_minutes = 10 * 60 * 1000"
   ]
  },
  {
   "cell_type": "code",
   "execution_count": null,
   "metadata": {},
   "outputs": [],
   "source": [
    "import math\n",
    "\n",
    "chunks = math.ceil(len(track) / ten_minutes)\n",
    "\n",
    "for i in range(chunks):\n",
    "    start_time = i * ten_minutes\n",
    "    end_time = (i + 1) * ten_minutes\n",
    "\n",
    "    chunk = track[start_time:end_time]\n",
    "\n",
    "    chunk.export(f\"C:\\Python\\\\fullstack_gpt\\\\files\\chunks/chunk_{i}.mp3\", format=\"mp3\")"
   ]
  }
 ],
 "metadata": {
  "kernelspec": {
   "display_name": "env",
   "language": "python",
   "name": "python3"
  },
  "language_info": {
   "codemirror_mode": {
    "name": "ipython",
    "version": 3
   },
   "file_extension": ".py",
   "mimetype": "text/x-python",
   "name": "python",
   "nbconvert_exporter": "python",
   "pygments_lexer": "ipython3",
   "version": "3.10.7"
  },
  "orig_nbformat": 4
 },
 "nbformat": 4,
 "nbformat_minor": 2
}
