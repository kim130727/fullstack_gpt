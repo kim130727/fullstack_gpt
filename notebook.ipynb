{
 "cells": [
  {
   "cell_type": "code",
   "execution_count": 5,
   "metadata": {},
   "outputs": [],
   "source": [
    "import subprocess\n",
    "from pydub import AudioSegment\n",
    "import math\n",
    "\n",
    "\n",
    "def extract_audio_from_video(video_path, audio_path):\n",
    "    command = [\n",
    "        \"ffmpeg\",\n",
    "        \"-i\",\n",
    "        video_path,\n",
    "        \"-vn\",\n",
    "        audio_path,\n",
    "    ]\n",
    "    subprocess.run(command)\n",
    "\n",
    "def cut_audio_in_chunks(audio_path, chunk_size, chunks_folder):\n",
    "    track = AudioSegment.from_mp3(audio_path)\n",
    "    chunk_len = chunk_size * 60 * 1000\n",
    "    chunks = math.ceil(len(track) / chunk_len)\n",
    "    for i in range(chunks):\n",
    "        start_time = i * chunk_len\n",
    "        end_time = (i + 1) * chunk_len\n",
    "\n",
    "        chunk = track[start_time:end_time]\n",
    "\n",
    "        chunk.export(f\"{chunks_folder}/chunk_{i}.mp3\", format=\"mp3\")"
   ]
  },
  {
   "cell_type": "code",
   "execution_count": 6,
   "metadata": {},
   "outputs": [
    {
     "ename": "KeyboardInterrupt",
     "evalue": "",
     "output_type": "error",
     "traceback": [
      "\u001b[1;31m---------------------------------------------------------------------------\u001b[0m",
      "\u001b[1;31mKeyboardInterrupt\u001b[0m                         Traceback (most recent call last)",
      "Cell \u001b[1;32mIn[6], line 1\u001b[0m\n\u001b[1;32m----> 1\u001b[0m \u001b[43mcut_audio_in_chunks\u001b[49m\u001b[43m(\u001b[49m\u001b[38;5;124;43m\"\u001b[39;49m\u001b[38;5;124;43mC:/Python/fullstack_gpt/files/hosea_ch8.mp3\u001b[39;49m\u001b[38;5;124;43m\"\u001b[39;49m\u001b[43m,\u001b[49m\u001b[43m \u001b[49m\u001b[38;5;241;43m10\u001b[39;49m\u001b[43m,\u001b[49m\u001b[43m \u001b[49m\u001b[38;5;124;43m\"\u001b[39;49m\u001b[38;5;124;43mC:/Python/fullstack_gpt/files/chunks\u001b[39;49m\u001b[38;5;124;43m\"\u001b[39;49m\u001b[43m)\u001b[49m\n",
      "Cell \u001b[1;32mIn[5], line 26\u001b[0m, in \u001b[0;36mcut_audio_in_chunks\u001b[1;34m(audio_path, chunk_size, chunks_folder)\u001b[0m\n\u001b[0;32m     22\u001b[0m end_time \u001b[38;5;241m=\u001b[39m (i \u001b[38;5;241m+\u001b[39m \u001b[38;5;241m1\u001b[39m) \u001b[38;5;241m*\u001b[39m chunk_len\n\u001b[0;32m     24\u001b[0m chunk \u001b[38;5;241m=\u001b[39m track[start_time:end_time]\n\u001b[1;32m---> 26\u001b[0m \u001b[43mchunk\u001b[49m\u001b[38;5;241;43m.\u001b[39;49m\u001b[43mexport\u001b[49m\u001b[43m(\u001b[49m\u001b[38;5;124;43mf\u001b[39;49m\u001b[38;5;124;43m\"\u001b[39;49m\u001b[38;5;132;43;01m{\u001b[39;49;00m\u001b[43mchunks_folder\u001b[49m\u001b[38;5;132;43;01m}\u001b[39;49;00m\u001b[38;5;124;43m/chunk_\u001b[39;49m\u001b[38;5;132;43;01m{\u001b[39;49;00m\u001b[43mi\u001b[49m\u001b[38;5;132;43;01m}\u001b[39;49;00m\u001b[38;5;124;43m.mp3\u001b[39;49m\u001b[38;5;124;43m\"\u001b[39;49m\u001b[43m,\u001b[49m\u001b[43m \u001b[49m\u001b[38;5;28;43mformat\u001b[39;49m\u001b[38;5;241;43m=\u001b[39;49m\u001b[38;5;124;43m\"\u001b[39;49m\u001b[38;5;124;43mmp3\u001b[39;49m\u001b[38;5;124;43m\"\u001b[39;49m\u001b[43m)\u001b[49m\n",
      "File \u001b[1;32mc:\\Python\\fullstack_gpt\\env\\lib\\site-packages\\pydub\\audio_segment.py:964\u001b[0m, in \u001b[0;36mAudioSegment.export\u001b[1;34m(self, out_f, format, codec, bitrate, parameters, tags, id3v2_version, cover)\u001b[0m\n\u001b[0;32m    962\u001b[0m \u001b[38;5;28;01mwith\u001b[39;00m \u001b[38;5;28mopen\u001b[39m(os\u001b[38;5;241m.\u001b[39mdevnull, \u001b[38;5;124m'\u001b[39m\u001b[38;5;124mrb\u001b[39m\u001b[38;5;124m'\u001b[39m) \u001b[38;5;28;01mas\u001b[39;00m devnull:\n\u001b[0;32m    963\u001b[0m     p \u001b[38;5;241m=\u001b[39m subprocess\u001b[38;5;241m.\u001b[39mPopen(conversion_command, stdin\u001b[38;5;241m=\u001b[39mdevnull, stdout\u001b[38;5;241m=\u001b[39msubprocess\u001b[38;5;241m.\u001b[39mPIPE, stderr\u001b[38;5;241m=\u001b[39msubprocess\u001b[38;5;241m.\u001b[39mPIPE)\n\u001b[1;32m--> 964\u001b[0m p_out, p_err \u001b[38;5;241m=\u001b[39m \u001b[43mp\u001b[49m\u001b[38;5;241;43m.\u001b[39;49m\u001b[43mcommunicate\u001b[49m\u001b[43m(\u001b[49m\u001b[43m)\u001b[49m\n\u001b[0;32m    966\u001b[0m log_subprocess_output(p_out)\n\u001b[0;32m    967\u001b[0m log_subprocess_output(p_err)\n",
      "File \u001b[1;32m~\\AppData\\Local\\Programs\\Python\\Python310\\lib\\subprocess.py:1152\u001b[0m, in \u001b[0;36mPopen.communicate\u001b[1;34m(self, input, timeout)\u001b[0m\n\u001b[0;32m   1149\u001b[0m     endtime \u001b[38;5;241m=\u001b[39m \u001b[38;5;28;01mNone\u001b[39;00m\n\u001b[0;32m   1151\u001b[0m \u001b[38;5;28;01mtry\u001b[39;00m:\n\u001b[1;32m-> 1152\u001b[0m     stdout, stderr \u001b[38;5;241m=\u001b[39m \u001b[38;5;28;43mself\u001b[39;49m\u001b[38;5;241;43m.\u001b[39;49m\u001b[43m_communicate\u001b[49m\u001b[43m(\u001b[49m\u001b[38;5;28;43minput\u001b[39;49m\u001b[43m,\u001b[49m\u001b[43m \u001b[49m\u001b[43mendtime\u001b[49m\u001b[43m,\u001b[49m\u001b[43m \u001b[49m\u001b[43mtimeout\u001b[49m\u001b[43m)\u001b[49m\n\u001b[0;32m   1153\u001b[0m \u001b[38;5;28;01mexcept\u001b[39;00m \u001b[38;5;167;01mKeyboardInterrupt\u001b[39;00m:\n\u001b[0;32m   1154\u001b[0m     \u001b[38;5;66;03m# https://bugs.python.org/issue25942\u001b[39;00m\n\u001b[0;32m   1155\u001b[0m     \u001b[38;5;66;03m# See the detailed comment in .wait().\u001b[39;00m\n\u001b[0;32m   1156\u001b[0m     \u001b[38;5;28;01mif\u001b[39;00m timeout \u001b[38;5;129;01mis\u001b[39;00m \u001b[38;5;129;01mnot\u001b[39;00m \u001b[38;5;28;01mNone\u001b[39;00m:\n",
      "File \u001b[1;32m~\\AppData\\Local\\Programs\\Python\\Python310\\lib\\subprocess.py:1526\u001b[0m, in \u001b[0;36mPopen._communicate\u001b[1;34m(self, input, endtime, orig_timeout)\u001b[0m\n\u001b[0;32m   1522\u001b[0m \u001b[38;5;66;03m# Wait for the reader threads, or time out.  If we time out, the\u001b[39;00m\n\u001b[0;32m   1523\u001b[0m \u001b[38;5;66;03m# threads remain reading and the fds left open in case the user\u001b[39;00m\n\u001b[0;32m   1524\u001b[0m \u001b[38;5;66;03m# calls communicate again.\u001b[39;00m\n\u001b[0;32m   1525\u001b[0m \u001b[38;5;28;01mif\u001b[39;00m \u001b[38;5;28mself\u001b[39m\u001b[38;5;241m.\u001b[39mstdout \u001b[38;5;129;01mis\u001b[39;00m \u001b[38;5;129;01mnot\u001b[39;00m \u001b[38;5;28;01mNone\u001b[39;00m:\n\u001b[1;32m-> 1526\u001b[0m     \u001b[38;5;28;43mself\u001b[39;49m\u001b[38;5;241;43m.\u001b[39;49m\u001b[43mstdout_thread\u001b[49m\u001b[38;5;241;43m.\u001b[39;49m\u001b[43mjoin\u001b[49m\u001b[43m(\u001b[49m\u001b[38;5;28;43mself\u001b[39;49m\u001b[38;5;241;43m.\u001b[39;49m\u001b[43m_remaining_time\u001b[49m\u001b[43m(\u001b[49m\u001b[43mendtime\u001b[49m\u001b[43m)\u001b[49m\u001b[43m)\u001b[49m\n\u001b[0;32m   1527\u001b[0m     \u001b[38;5;28;01mif\u001b[39;00m \u001b[38;5;28mself\u001b[39m\u001b[38;5;241m.\u001b[39mstdout_thread\u001b[38;5;241m.\u001b[39mis_alive():\n\u001b[0;32m   1528\u001b[0m         \u001b[38;5;28;01mraise\u001b[39;00m TimeoutExpired(\u001b[38;5;28mself\u001b[39m\u001b[38;5;241m.\u001b[39margs, orig_timeout)\n",
      "File \u001b[1;32m~\\AppData\\Local\\Programs\\Python\\Python310\\lib\\threading.py:1096\u001b[0m, in \u001b[0;36mThread.join\u001b[1;34m(self, timeout)\u001b[0m\n\u001b[0;32m   1093\u001b[0m     \u001b[38;5;28;01mraise\u001b[39;00m \u001b[38;5;167;01mRuntimeError\u001b[39;00m(\u001b[38;5;124m\"\u001b[39m\u001b[38;5;124mcannot join current thread\u001b[39m\u001b[38;5;124m\"\u001b[39m)\n\u001b[0;32m   1095\u001b[0m \u001b[38;5;28;01mif\u001b[39;00m timeout \u001b[38;5;129;01mis\u001b[39;00m \u001b[38;5;28;01mNone\u001b[39;00m:\n\u001b[1;32m-> 1096\u001b[0m     \u001b[38;5;28;43mself\u001b[39;49m\u001b[38;5;241;43m.\u001b[39;49m\u001b[43m_wait_for_tstate_lock\u001b[49m\u001b[43m(\u001b[49m\u001b[43m)\u001b[49m\n\u001b[0;32m   1097\u001b[0m \u001b[38;5;28;01melse\u001b[39;00m:\n\u001b[0;32m   1098\u001b[0m     \u001b[38;5;66;03m# the behavior of a negative timeout isn't documented, but\u001b[39;00m\n\u001b[0;32m   1099\u001b[0m     \u001b[38;5;66;03m# historically .join(timeout=x) for x<0 has acted as if timeout=0\u001b[39;00m\n\u001b[0;32m   1100\u001b[0m     \u001b[38;5;28mself\u001b[39m\u001b[38;5;241m.\u001b[39m_wait_for_tstate_lock(timeout\u001b[38;5;241m=\u001b[39m\u001b[38;5;28mmax\u001b[39m(timeout, \u001b[38;5;241m0\u001b[39m))\n",
      "File \u001b[1;32m~\\AppData\\Local\\Programs\\Python\\Python310\\lib\\threading.py:1116\u001b[0m, in \u001b[0;36mThread._wait_for_tstate_lock\u001b[1;34m(self, block, timeout)\u001b[0m\n\u001b[0;32m   1113\u001b[0m     \u001b[38;5;28;01mreturn\u001b[39;00m\n\u001b[0;32m   1115\u001b[0m \u001b[38;5;28;01mtry\u001b[39;00m:\n\u001b[1;32m-> 1116\u001b[0m     \u001b[38;5;28;01mif\u001b[39;00m \u001b[43mlock\u001b[49m\u001b[38;5;241;43m.\u001b[39;49m\u001b[43macquire\u001b[49m\u001b[43m(\u001b[49m\u001b[43mblock\u001b[49m\u001b[43m,\u001b[49m\u001b[43m \u001b[49m\u001b[43mtimeout\u001b[49m\u001b[43m)\u001b[49m:\n\u001b[0;32m   1117\u001b[0m         lock\u001b[38;5;241m.\u001b[39mrelease()\n\u001b[0;32m   1118\u001b[0m         \u001b[38;5;28mself\u001b[39m\u001b[38;5;241m.\u001b[39m_stop()\n",
      "\u001b[1;31mKeyboardInterrupt\u001b[0m: "
     ]
    }
   ],
   "source": [
    "cut_audio_in_chunks(\"C:/Python/fullstack_gpt/files/hosea_ch8.mp3\", 10, \"C:/Python/fullstack_gpt/files/chunks\")"
   ]
  },
  {
   "cell_type": "code",
   "execution_count": 14,
   "metadata": {},
   "outputs": [
    {
     "data": {
      "text/plain": [
       "'자 오늘 고세하서 11장부터 14장 까지 인데요. 거기 한번 보시면 좋을 것 같고 11장 1절에서 4절 말씀은 이 성경에 하나님의 아들이라는 표현이 나오는데 또는 이 하나님의 아들이라는 표현이 세가지 형태로 나옵니다. 첫 번째는 예수 그리스도를 이야기할 때 하나님의 아들이라는 표현을 써요. 예수 그리스도를 하나님의 아들이라고 표현하는 것은 이거는 동질의 존재다라는 것을 나타내기 위한 아들입니다. 사람의 자녀는 사람이고 개의 자녀가 아니고 개는 강아지이고 그런 거잖아요. 하나님의 예수 그리스도를 하나님의 아들이라 지칭하는 것은 결국에는 하나님이다 이 말인 거예요. 동질의 의미에서의 아들의 의미를 사용하고 있고요. 두 번째는 왕이나 제사장이나 선지자에게 하나님의 아들, 너는 내 아들이다 이런 표현을 씁니다. 그거는 대리인의 이야기를 하는 겁니다. 대리인. 대리인으로서 존재하는 것이다 이렇게 이야기하고 있는 것입니다. 대리인. 그래서 이 대리인적 역할로서의 왕, 제사장, 선지자가 하나님의 임명을 받게 되죠. 물론 제사장들을 통해서 임명되어지긴 하지만 이 임명이라는 것을 많은 분들이 자꾸만 어떻게 해석하시냐면 권리적으로 해석하는 사람들이 많아요. 근데 이건 권리적 해석이 아닙니다. 권리가 이루어지려면 반드시 뭐를 해야 되는 거냐면 본인의 책임을 다할 때 이 권리를 받게 되는 겁니다. 권리적 문제가 아니에요. 예를 들면 이거 하나님이 세우셨으니까 무조건 따라 이런 게 아니라는 거예요. 하나님이 세우셨으니까 함부로 그 사람을 내려앉힐 수 없어 이런 말이 아니에요. 하나님의 대리인으로서 책임을 다하라는 거예요. 하나님의 통치를 이것 가운데 이루어내라는 거예요. 근데 그것을 못 이루어내 그러면 어떻게 하죠? 교체 시키는 겁니다. 이거를 착각하시면 안 돼요. 하나님이 세우셨으니까 그 사람을 끌어내릴 수 없어 이 말은 진짜 바보 같은 말이에요. 근데 우리는 저 정치인들도 대통령 뭐 이런 사람한테도 그런 걸 적용시키고 목사한테도 그런 걸 적용시키고 자꾸만 그렇게 하나님이 세우셨는데 어떻게 네가 그럴 수 있어 그런 게 아닙니다. 하나님이 세웠다라는 것은 반드시 그 책임을 다해야 되는 거예요. 그 책임을 다하지 않으면 어떻게 하는 겁니까? 하나님이 교체하시는 거예요. 그리고 사람이 교체하는 겁니다. 사람이 그거에 대해서 비판하는 거예요. 근데 우리는 그러한 일을 마치 권리의 상황으로 해석하는 경우가 너무 많다는 겁니다. 그렇지 않습니다. 세 번째는 이 오늘 본문이 이스라엘에게 하나님의 아들이라는 표현을 써요. 이게 몇 번 몇 번 씁니다. 성경에서도. 근데 이거는 두 가지 형태에서 우리가 좀 해석할 수 있는데 하나는 왕권주의에 대한 반대 의견으로써 사용될 때가 있어요. 왕권주의. 소위 말하면 지난주에 제가 여러분들하고 설명 드릴 때 성경이 말하는 그 이야기들을 결국엔 우리가 좀 생각해 볼 필요가 있는데 왕을 세운 것은 하나님의 뜻이 아니다. 그건 사람의 뜻이었고 사람이 원하는 것을 하나님이 용납해 주신 것 정도였다라고 얘기했고 그것에 대해서 이 문제를 냈습니다. 그래서 왕권에 대한 왕정주의에 대해서 반대하는 성향으로써 이스라엘을 아들로 표현한 경우도 있습니다. 두 번째는 또 하나는 뭐냐면 이게 확대된 거예요. 왕에서 모든 하나님의 자녀들은 다 하나님의 아들이다 이렇게 표현하고 있는 부분들도 있습니다. 지금으로 우리가 얘기하자면 과거에는 이게 어색하지만 왕한테는 하나님의 아들 쓰는 게 괜찮아 보이고 백성들한테는 하나님의 아들 쓰는 게 어색해 보이지만 지금은 우리 모두다를 뭐라고 얘기하는 겁니까? 하나님의 자녀요. 하나님의 아들이요. 하나님의 딸이라고 얘기하잖아요. 그러니까 이게 확장성이라는 것이 결국에는 지금의 미래적인 가치로 보면 그 확장성이 맞는 거예요. 항상 여러분이 기억해야 될 게 뭐냐면 과거에 그것이 아니었다고 말한다고 해도 미래에 그것이 맞는 경우가 많아요. 우리도 지금도 똑같아요. 지금 우리가 아니라고 얘기하는 부분이 많이 있지만 그 부분이 미래에 가면 맞는 경우가 많잖아요. 그래서 우리가 자꾸 뭘 생각해 보셔야 되냐면 미래적 가치를 생각해 보셔야 됩니다. 미래적 가치를. 단순히 지금 현실의 문제만으로서 우리가 어떤 선택을 한다는 것 자체를 조심해 보셔야 된다는 거예요. 여러분 지금 여기 계신 분들 모두 다가 마찬가지일 거예요. 지금 우리 10대, 20대 있는 아이들하고 우리하고는 생각하는 차원이 달라요. 생각하는 차원이. 그러면 한번 생각해 보세요. 여러분들이 아무리 지금 주장해 놓았다고 한들 걔들이 그 사람들이 40대가 됐었을 때 여러분들이 생각한 그 생각대로 됐을 거라고 생각하세요? 전혀 안 됩니다. 그런 게 아니라고요. 그런 게. 그 사람들은 그 사람들이 기성세대가 됐었을 때 그 기성세대의 문화가 있을 거예요. 그러니까 우리가 자꾸 뭔가를 바꿔놓겠다. 저 인간들을 어떻게든 바꿔놔가지고 우리가 원하는 세상을 만드는. 그건 진짜 잘못하고 있는 거예요. 아닙니다. 그렇게 될 가능성이 없어요. 그래서 우리가 해야 되는 것은 뭐냐면 원리와 원칙을 자꾸 주장하고 지금의 현상을 자꾸 이야기해서는 안 돼요. 그것으로 우리가 주장해서는 안 됩니다. 원리, 원칙을 그래서 기준을 잘 잡아주는 게 되게 중요합니다. 근데 그 기준을 잡아줄 때 제가 이제 자녀교육에 대해서 전문가도 아니고 뭐 이렇지만 제가 여러분들 말씀드릴 수 있는 거는 아이들이 어릴 때 기준을 잘 잡아주셔야 돼요. 어릴 때. 나이가 청소년기, 청년기에 들어와서 방황할 수 있어요. 여러분 방황을 안 한다고 하면 오산이에요. 방황합니다. 뭐 자녀들 방황하고 있으시잖아요. 아닌가? 우리 애들도 다 방황하고 있어요. 이제 초등학교 갓 지나잖아요. 그러면 여러분 이 반항기가 훨씬 세져요. 부모가 못 이깁니다. 이길 수 있는 가능성이 별로 없어요. 이기면 어떻게 되는 줄 아세요? 부모가 이기면? 집 나가버려요. 요즘 애들은 여러분 집 나가는 거를 우습게 알아요. 옛날에 우리는 하루만 집 나가도 뭔가 이 막 가출을 했다고 뭐 이렇게 생각하잖아요. 요즘 애들은요. 남의 집 가가지고 그 부모님들 눈치 보면서 살고 이런 애들 아니에요. 그냥 남의 집 가가지고 죽치고 살아요. 그냥. 남의 집 가가지고 친구 집 가가지고 눈치 하나도 안 봐요. 부모님 눈치 보고 뭐 이렇게 막 안녕하세요 이런 거 안 해요. 그냥 그 친구 방 틀어박혀 가지고 지들끼리 게임하고 지들끼리 뭐 자기 자녀 통해 가지고 엄마 닭 좀 시켜줘. 엄마 치킨 시켜줘. 뭐 이러고 살지. 걔들이 뭐 누구 눈치 보고 이러지 않습니다. 웬만해 가지고. 근데 여러분 이제 어린 시절에 기준을 잘 잡아 주실 필요가 있어요. 저는 이제 어릴 때 성경적 기준을 잘 가르쳐 주시면 그 아이들은 결국에 20대 30대가 가면 갈수록 그 기준이 그들의 기준이 되어져 있는 상황들을 보게 되어지는 것 같아요. 근데 어릴 때 기준이 잘 안 잡히잖아요. 그러면 정말 어려워집니다. 부모님들이 돈으로 다 해결하시면 정말 어려워져요. 아이들 키울 수가 없는 상황이 될 겁니다. 그래서 이런 기준들이 왔다 왔다라는 것들을 인식하고 지금은 우리는 뭐 당연히 당연히 우리 모두 다가 하나님의 자녀들이오 아들이오 딸이라고 여기지 뭐 목사만 하나님의 자녀요 또는 뭐 정치인만 하나님의 대리자요 이렇게 생각 안 하시잖아요. 이렇게 생각. 근데 결정적인 순간 되시면 꼭 그렇게 되세요.'"
      ]
     },
     "execution_count": 14,
     "metadata": {},
     "output_type": "execute_result"
    }
   ],
   "source": [
    "from openai import OpenAI\n",
    "client = OpenAI()\n",
    "\n",
    "audio_file= open(\"./files/chunks/chunk_0.mp3\", \"rb\")\n",
    "\n",
    "transcript = client.audio.transcriptions.create(\n",
    "\tmodel=\"whisper-1\", \n",
    "\tfile=audio_file,\n",
    ")\n",
    "\n",
    "transcript.text"
   ]
  },
  {
   "cell_type": "code",
   "execution_count": 15,
   "metadata": {},
   "outputs": [],
   "source": [
    "from typing import final\n",
    "from openai import OpenAI\n",
    "import glob\n",
    "client = OpenAI()\n",
    "\n",
    "def transcribe_chunks(chunk_folder, destination):\n",
    "    files = glob.glob(f\"{chunk_folder}/*.mp3\")\n",
    "    final_transcript = \"\"\n",
    "    for file in files:\n",
    "        with open(file, \"rb\") as audio_file:\n",
    "            transcript = client.audio.transcriptions.create(\n",
    "\t            model=\"whisper-1\", \n",
    "\t            file=audio_file,\n",
    "            )\n",
    "            final_transcript += transcript.text\n",
    "    with open(destination, \"w\") as file:\n",
    "        file.write(final_transcript)"
   ]
  },
  {
   "cell_type": "code",
   "execution_count": 17,
   "metadata": {},
   "outputs": [],
   "source": [
    "transcribe_chunks(\"./files/chunks\", \"./files/transcript.txt\")"
   ]
  }
 ],
 "metadata": {
  "kernelspec": {
   "display_name": "env",
   "language": "python",
   "name": "python3"
  },
  "language_info": {
   "codemirror_mode": {
    "name": "ipython",
    "version": 3
   },
   "file_extension": ".py",
   "mimetype": "text/x-python",
   "name": "python",
   "nbconvert_exporter": "python",
   "pygments_lexer": "ipython3",
   "version": "3.10.7"
  },
  "orig_nbformat": 4
 },
 "nbformat": 4,
 "nbformat_minor": 2
}
