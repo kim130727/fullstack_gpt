{
 "cells": [
  {
   "cell_type": "code",
   "execution_count": 1,
   "metadata": {},
   "outputs": [],
   "source": [
    "from langchain.chat_models import ChatOpenAI\n",
    "from langchain.document_loaders import UnstructuredFileLoader\n",
    "from langchain.text_splitter import CharacterTextSplitter\n",
    "from langchain.embeddings import OpenAIEmbeddings, CacheBackedEmbeddings\n",
    "from langchain.vectorstores import Chroma\n",
    "from langchain.storage import LocalFileStore\n",
    "\n",
    "cache_dir = LocalFileStore(\"./.cache/\")\n",
    "\n",
    "\n",
    "splitter = CharacterTextSplitter.from_tiktoken_encoder(\n",
    "    separator=\"\\n\",\n",
    "    chunk_size=600,\n",
    "    chunk_overlap=100,\n",
    ")\n",
    "loader = UnstructuredFileLoader(\"./files/chapter_one.docx\")\n",
    "\n",
    "docs = loader.load_and_split(text_splitter=splitter)\n",
    "\n",
    "embeddings = OpenAIEmbeddings()\n",
    "\n",
    "cached_embeddings = CacheBackedEmbeddings.from_bytes_store(embeddings, cache_dir)\n",
    "\n",
    "vectorstore = Chroma.from_documents(docs, cached_embeddings)"
   ]
  },
  {
   "cell_type": "code",
   "execution_count": 2,
   "metadata": {},
   "outputs": [
    {
     "data": {
      "text/plain": [
       "[Document(page_content='George Allen.\\n             CHISWICK PRESS:--CHARLES WHITTINGHAM AND CO.\\n                  TOOKS COURT, CHANCERY LANE, LONDON.\\n                            [Illustration:\\n                          _To J. Comyns Carr\\n                      in acknowledgment of all I\\n                       owe to his friendship and\\n                    advice, these illustrations are\\n                         gratefully inscribed_\\n                            _Hugh Thomson_\\n                                   ]\\nPREFACE.\\n[Illustration]\\n_Walt Whitman has somewhere a fine and just distinction between “loving\\nby allowance” and “loving with personal love.” This distinction applies\\nto books as well as to men and women; and in the case of the not very\\nnumerous authors who are the objects of the personal affection, it\\nbrings a curious consequence with it. There is much more difference as\\nto their best work than in the case of those others who are loved “by\\nallowance” by convention, and because it is felt to be the right and\\nproper thing to love them. And in the sect--fairly large and yet\\nunusually choice--of Austenians or Janites, there would probably be\\nfound partisans of the claim to primacy of almost every one of the\\nnovels. To some the delightful freshness and humour of_ Northanger\\nAbbey, _its completeness, finish, and_ entrain, _obscure the undoubted\\ncritical facts that its scale is small, and its scheme, after all, that\\nof burlesque or parody, a kind in which the first rank is reached with', metadata={'source': './files/chapter_one.docx'}),\n",
       " Document(page_content=']\\n                                PRIDE.\\n                                  and\\n                               PREJUDICE\\n                                  by\\n                             Jane Austen,\\n                           with a Preface by\\n                           George Saintsbury\\n                                  and\\n                           Illustrations by\\n                             Hugh Thomson\\n                         [Illustration: 1894]\\n                       Ruskin       156. Charing\\n                       House.        Cross Road.\\n                                London\\n                             George Allen.\\n             CHISWICK PRESS:--CHARLES WHITTINGHAM AND CO.\\n                  TOOKS COURT, CHANCERY LANE, LONDON.', metadata={'source': './files/chapter_one.docx'}),\n",
       " Document(page_content='anybody born in her decade--that of the eighteenth-century\\nseventies--independently exhibited the full romantic quality. Even Scott\\nrequired hill and mountain and ballad, even Coleridge metaphysics and\\nGerman to enable them to chip the classical shell. Miss Austen was an\\nEnglish girl, brought up in a country retirement, at the time when\\nladies went back into the house if there was a white frost which might\\npierce their kid shoes, when a sudden cold was the subject of the\\ngravest fears, when their studies, their ways, their conduct were\\nsubject to all those fantastic limits and restrictions against which\\nMary Wollstonecraft protested with better general sense than particular\\ntaste or judgment. Miss Austen, too, drew back when the white frost\\ntouched her shoes; but I think she would have made a pretty good journey\\neven in a black one._\\n_For if her knowledge was not very extended, she knew two things which\\nonly genius knows. The one was humanity, and the other was art. On the\\nfirst head she could not make a mistake; her men, though limited, are\\ntrue, and her women are, in the old sense, “absolute.” As to art, if she\\nhas never tried idealism, her realism is real to a degree which makes\\nthe false realism of our own day look merely dead-alive. Take almost any\\nFrenchman, except the late M. de Maupassant, and watch him laboriously\\npiling up strokes in the hope of giving a complete impression. You get\\nnone; you are lucky if, discarding two-thirds of what he gives, you can\\nshape a real impression out of the rest. But with Miss Austen the\\nmyriad, trivial, unforced strokes build up the picture like magic.\\nNothing is false; nothing is superfluous. When (to take the present book\\nonly) Mr. Collins changed his mind from Jane to Elizabeth “while Mrs.\\nBennet was stirring the fire” (and we know_ how _Mrs. Bennet would have\\nstirred the fire), when Mr. Darcy “brought his coffee-cup back_\\nhimself,” _the touch in each case is like that of Swift--“taller by the\\nbreadth of my nail”--which impressed the half-reluctant Thackeray with\\njust and outspoken admiration. Indeed, fantastic as it may seem, I\\nshould put Miss Austen as near to Swift in some ways, as I have put her\\nto Addison in others._', metadata={'source': './files/chapter_one.docx'}),\n",
       " Document(page_content='_In the first place, the book (it may be barely necessary to remind the\\nreader) was in its first shape written very early, somewhere about 1796,\\nwhen Miss Austen was barely twenty-one; though it was revised and\\nfinished at Chawton some fifteen years later, and was not published till\\n1813, only four years before her death. I do not know whether, in this\\ncombination of the fresh and vigorous projection of youth, and the\\ncritical revision of middle life, there may be traced the distinct\\nsuperiority in point of construction, which, as it seems to me, it\\npossesses over all the others. The plot, though not elaborate, is almost\\nregular enough for Fielding; hardly a character, hardly an incident\\ncould be retrenched without loss to the story. The elopement of Lydia\\nand Wickham is not, like that of Crawford and Mrs. Rushworth, a_ coup de\\nthéâtre; _it connects itself in the strictest way with the course of the\\nstory earlier, and brings about the denouement with complete propriety.\\nAll the minor passages--the loves of Jane and Bingley, the advent of Mr.\\nCollins, the visit to Hunsford, the Derbyshire tour--fit in after the\\nsame unostentatious, but masterly fashion. There is no attempt at the\\nhide-and-seek, in-and-out business, which in the transactions between\\nFrank Churchill and Jane Fairfax contributes no doubt a good deal to the\\nintrigue of_ Emma, _but contributes it in a fashion which I do not think\\nthe best feature of that otherwise admirable book. Although Miss Austen\\nalways liked something of the misunderstanding kind, which afforded her\\nopportunities for the display of the peculiar and incomparable talent to\\nbe noticed presently, she has been satisfied here with the perfectly\\nnatural occasions provided by the false account of Darcy’s conduct given\\nby Wickham, and by the awkwardness (arising with equal naturalness) from\\nthe gradual transformation of Elizabeth’s own feelings from positive\\naversion to actual love. I do not know whether the all-grasping hand of\\nthe playwright has ever been laid upon_ Pride and Prejudice; _and I dare\\nsay that, if it were, the situations would prove not startling or\\ngarish enough for the footlights, the character-scheme too subtle and\\ndelicate for pit and gallery. But if the attempt were made, it would\\ncertainly not be hampered by any of those loosenesses of construction,\\nwhich, sometimes disguised by the conveniences of which the novelist can\\navail himself, appear at once on the stage._\\n_I think, however, though the thought will doubtless seem heretical to', metadata={'source': './files/chapter_one.docx'})]"
      ]
     },
     "execution_count": 2,
     "metadata": {},
     "output_type": "execute_result"
    }
   ],
   "source": [
    "results = vectorstore.similarity_search(\"where does winston live\")\n",
    "\n",
    "results"
   ]
  }
 ],
 "metadata": {
  "kernelspec": {
   "display_name": "env",
   "language": "python",
   "name": "python3"
  },
  "language_info": {
   "codemirror_mode": {
    "name": "ipython",
    "version": 3
   },
   "file_extension": ".py",
   "mimetype": "text/x-python",
   "name": "python",
   "nbconvert_exporter": "python",
   "pygments_lexer": "ipython3",
   "version": "3.10.7"
  },
  "orig_nbformat": 4
 },
 "nbformat": 4,
 "nbformat_minor": 2
}
